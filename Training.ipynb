{
 "cells": [
  {
   "cell_type": "code",
   "execution_count": 172,
   "id": "c36d79eb",
   "metadata": {},
   "outputs": [
    {
     "name": "stdout",
     "output_type": "stream",
     "text": [
      "Requirement already satisfied: numpy==1.18.1 in c:\\users\\vital\\anaconda3\\lib\\site-packages (from -r requirements.txt (line 1)) (1.18.1)\n",
      "Requirement already satisfied: pandas==1.0.1 in c:\\users\\vital\\anaconda3\\lib\\site-packages (from -r requirements.txt (line 2)) (1.0.1)\n",
      "Requirement already satisfied: scikit-learn==0.22.2.post1 in c:\\users\\vital\\anaconda3\\lib\\site-packages (from -r requirements.txt (line 3)) (0.22.2.post1)\n",
      "Requirement already satisfied: pytz>=2017.2 in c:\\users\\vital\\anaconda3\\lib\\site-packages (from pandas==1.0.1->-r requirements.txt (line 2)) (2021.1)\n",
      "Requirement already satisfied: python-dateutil>=2.6.1 in c:\\users\\vital\\anaconda3\\lib\\site-packages (from pandas==1.0.1->-r requirements.txt (line 2)) (2.8.1)\n",
      "Requirement already satisfied: joblib>=0.11 in c:\\users\\vital\\anaconda3\\lib\\site-packages (from scikit-learn==0.22.2.post1->-r requirements.txt (line 3)) (1.0.1)\n",
      "Requirement already satisfied: scipy>=0.17.0 in c:\\users\\vital\\anaconda3\\lib\\site-packages (from scikit-learn==0.22.2.post1->-r requirements.txt (line 3)) (1.6.2)\n",
      "Requirement already satisfied: six>=1.5 in c:\\users\\vital\\anaconda3\\lib\\site-packages (from python-dateutil>=2.6.1->pandas==1.0.1->-r requirements.txt (line 2)) (1.14.0)\n"
     ]
    }
   ],
   "source": [
    "!pip install -r requirements.txt"
   ]
  },
  {
   "cell_type": "code",
   "execution_count": 173,
   "id": "cca4a29f",
   "metadata": {},
   "outputs": [],
   "source": [
    "import pandas as pd"
   ]
  },
  {
   "cell_type": "code",
   "execution_count": 174,
   "id": "d90fd98d",
   "metadata": {},
   "outputs": [],
   "source": [
    "test = pd.read_csv(\"./test.csv\")\n",
    "train = pd.read_csv(\"./train.csv\")"
   ]
  },
  {
   "cell_type": "markdown",
   "id": "9ff01c9d",
   "metadata": {},
   "source": [
    "### Analisi dei dati"
   ]
  },
  {
   "cell_type": "code",
   "execution_count": 175,
   "id": "71004864",
   "metadata": {},
   "outputs": [
    {
     "data": {
      "text/html": [
       "<div>\n",
       "<style scoped>\n",
       "    .dataframe tbody tr th:only-of-type {\n",
       "        vertical-align: middle;\n",
       "    }\n",
       "\n",
       "    .dataframe tbody tr th {\n",
       "        vertical-align: top;\n",
       "    }\n",
       "\n",
       "    .dataframe thead th {\n",
       "        text-align: right;\n",
       "    }\n",
       "</style>\n",
       "<table border=\"1\" class=\"dataframe\">\n",
       "  <thead>\n",
       "    <tr style=\"text-align: right;\">\n",
       "      <th></th>\n",
       "      <th>RowNumber</th>\n",
       "      <th>CustomerId</th>\n",
       "      <th>Surname</th>\n",
       "      <th>CreditScore</th>\n",
       "      <th>Geography</th>\n",
       "      <th>Gender</th>\n",
       "      <th>Age</th>\n",
       "      <th>Tenure</th>\n",
       "      <th>Balance</th>\n",
       "      <th>NumOfProducts</th>\n",
       "      <th>HasCrCard</th>\n",
       "      <th>IsActiveMember</th>\n",
       "      <th>EstimatedSalary</th>\n",
       "      <th>Exited</th>\n",
       "    </tr>\n",
       "  </thead>\n",
       "  <tbody>\n",
       "    <tr>\n",
       "      <th>0</th>\n",
       "      <td>2604</td>\n",
       "      <td>15583049</td>\n",
       "      <td>Wallace</td>\n",
       "      <td>643</td>\n",
       "      <td>Germany</td>\n",
       "      <td>Female</td>\n",
       "      <td>34</td>\n",
       "      <td>7</td>\n",
       "      <td>160426.07</td>\n",
       "      <td>1</td>\n",
       "      <td>0</td>\n",
       "      <td>1</td>\n",
       "      <td>188533.11</td>\n",
       "      <td>0</td>\n",
       "    </tr>\n",
       "    <tr>\n",
       "      <th>1</th>\n",
       "      <td>5125</td>\n",
       "      <td>15612140</td>\n",
       "      <td>Milano</td>\n",
       "      <td>721</td>\n",
       "      <td>Spain</td>\n",
       "      <td>Female</td>\n",
       "      <td>46</td>\n",
       "      <td>7</td>\n",
       "      <td>137933.39</td>\n",
       "      <td>1</td>\n",
       "      <td>1</td>\n",
       "      <td>1</td>\n",
       "      <td>67976.57</td>\n",
       "      <td>0</td>\n",
       "    </tr>\n",
       "    <tr>\n",
       "      <th>2</th>\n",
       "      <td>6789</td>\n",
       "      <td>15800268</td>\n",
       "      <td>Costa</td>\n",
       "      <td>825</td>\n",
       "      <td>Germany</td>\n",
       "      <td>Male</td>\n",
       "      <td>37</td>\n",
       "      <td>6</td>\n",
       "      <td>118050.79</td>\n",
       "      <td>1</td>\n",
       "      <td>0</td>\n",
       "      <td>1</td>\n",
       "      <td>52301.15</td>\n",
       "      <td>0</td>\n",
       "    </tr>\n",
       "    <tr>\n",
       "      <th>3</th>\n",
       "      <td>9338</td>\n",
       "      <td>15797751</td>\n",
       "      <td>Pai</td>\n",
       "      <td>466</td>\n",
       "      <td>Germany</td>\n",
       "      <td>Female</td>\n",
       "      <td>47</td>\n",
       "      <td>5</td>\n",
       "      <td>102085.72</td>\n",
       "      <td>1</td>\n",
       "      <td>1</td>\n",
       "      <td>1</td>\n",
       "      <td>183536.24</td>\n",
       "      <td>1</td>\n",
       "    </tr>\n",
       "    <tr>\n",
       "      <th>4</th>\n",
       "      <td>7480</td>\n",
       "      <td>15671987</td>\n",
       "      <td>Meagher</td>\n",
       "      <td>567</td>\n",
       "      <td>Spain</td>\n",
       "      <td>Male</td>\n",
       "      <td>35</td>\n",
       "      <td>8</td>\n",
       "      <td>153137.74</td>\n",
       "      <td>1</td>\n",
       "      <td>1</td>\n",
       "      <td>0</td>\n",
       "      <td>88659.07</td>\n",
       "      <td>0</td>\n",
       "    </tr>\n",
       "  </tbody>\n",
       "</table>\n",
       "</div>"
      ],
      "text/plain": [
       "   RowNumber  CustomerId  Surname  CreditScore Geography  Gender  Age  Tenure  \\\n",
       "0       2604    15583049  Wallace          643   Germany  Female   34       7   \n",
       "1       5125    15612140   Milano          721     Spain  Female   46       7   \n",
       "2       6789    15800268    Costa          825   Germany    Male   37       6   \n",
       "3       9338    15797751      Pai          466   Germany  Female   47       5   \n",
       "4       7480    15671987  Meagher          567     Spain    Male   35       8   \n",
       "\n",
       "     Balance  NumOfProducts  HasCrCard  IsActiveMember  EstimatedSalary  \\\n",
       "0  160426.07              1          0               1        188533.11   \n",
       "1  137933.39              1          1               1         67976.57   \n",
       "2  118050.79              1          0               1         52301.15   \n",
       "3  102085.72              1          1               1        183536.24   \n",
       "4  153137.74              1          1               0         88659.07   \n",
       "\n",
       "   Exited  \n",
       "0       0  \n",
       "1       0  \n",
       "2       0  \n",
       "3       1  \n",
       "4       0  "
      ]
     },
     "execution_count": 175,
     "metadata": {},
     "output_type": "execute_result"
    }
   ],
   "source": [
    "train.head()"
   ]
  },
  {
   "cell_type": "code",
   "execution_count": 176,
   "id": "9e7eae22",
   "metadata": {},
   "outputs": [
    {
     "name": "stdout",
     "output_type": "stream",
     "text": [
      "<class 'pandas.core.frame.DataFrame'>\n",
      "RangeIndex: 6400 entries, 0 to 6399\n",
      "Data columns (total 14 columns):\n",
      " #   Column           Non-Null Count  Dtype  \n",
      "---  ------           --------------  -----  \n",
      " 0   RowNumber        6400 non-null   int64  \n",
      " 1   CustomerId       6400 non-null   int64  \n",
      " 2   Surname          6400 non-null   object \n",
      " 3   CreditScore      6400 non-null   int64  \n",
      " 4   Geography        6400 non-null   object \n",
      " 5   Gender           6400 non-null   object \n",
      " 6   Age              6400 non-null   int64  \n",
      " 7   Tenure           6400 non-null   int64  \n",
      " 8   Balance          6400 non-null   float64\n",
      " 9   NumOfProducts    6400 non-null   int64  \n",
      " 10  HasCrCard        6400 non-null   int64  \n",
      " 11  IsActiveMember   6400 non-null   int64  \n",
      " 12  EstimatedSalary  6400 non-null   float64\n",
      " 13  Exited           6400 non-null   int64  \n",
      "dtypes: float64(2), int64(9), object(3)\n",
      "memory usage: 700.1+ KB\n"
     ]
    }
   ],
   "source": [
    "train.info()"
   ]
  },
  {
   "cell_type": "code",
   "execution_count": 177,
   "id": "54c1cd88",
   "metadata": {},
   "outputs": [
    {
     "data": {
      "text/plain": [
       "Index(['RowNumber', 'CustomerId', 'Surname', 'CreditScore', 'Geography',\n",
       "       'Gender', 'Age', 'Tenure', 'Balance', 'NumOfProducts', 'HasCrCard',\n",
       "       'IsActiveMember', 'EstimatedSalary', 'Exited'],\n",
       "      dtype='object')"
      ]
     },
     "execution_count": 177,
     "metadata": {},
     "output_type": "execute_result"
    }
   ],
   "source": [
    "train.columns"
   ]
  },
  {
   "cell_type": "code",
   "execution_count": 178,
   "id": "9b746176",
   "metadata": {},
   "outputs": [
    {
     "data": {
      "text/plain": [
       "(6400, 14)"
      ]
     },
     "execution_count": 178,
     "metadata": {},
     "output_type": "execute_result"
    }
   ],
   "source": [
    "train.shape"
   ]
  },
  {
   "cell_type": "code",
   "execution_count": 179,
   "id": "5620f575",
   "metadata": {},
   "outputs": [
    {
     "name": "stdout",
     "output_type": "stream",
     "text": [
      "RowNumber\n",
      "[2604 5125 6789 ...  415 1802 7608]\n",
      "CustomerId\n",
      "[15583049 15612140 15800268 ... 15810432 15774931 15638751]\n",
      "Surname\n",
      "['Wallace' 'Milano' 'Costa' ... 'Maggard' 'Korff' 'Moseley']\n",
      "CreditScore\n",
      "[643 721 825 466 567 717 691 502 474 495 683 668 519 768 644 590 637 735\n",
      " 656 652 687 743 513 544 580 665 699 693 797 782 685 552 713 516 748 524\n",
      " 828 672 711 599 627 813 696 716 484 719 674 605 521 738 658 598 453 694\n",
      " 611 594 510 581 562 677 709 806 850 707 758 742 613 684 660 587 791 533\n",
      " 710 539 802 775 807 551 608 561 812 692 623 650 574 645 820 555 675 767\n",
      " 727 606 616 781 633 798 470 615 663 550 676 412 512 465 817 705 596 749\n",
      " 778 682 704 688 614 725 653 607 619 507 662 701 712 784 493 757 631 803\n",
      " 671 730 584 667 635 557 787 746 579 569 766 733 464 762 724 756 640 543\n",
      " 785 462 505 811 655 498 609 657 504 770 585 542 517 718 808 520 741 753\n",
      " 647 604 425 624 386 612 577 670 634 714 720 483 537 695 739 571 603 630\n",
      " 641 726 442 690 732 601 636 527 629 597 792 554 430 595 468 788 659 578\n",
      " 686 523 826 454 506 777 729 646 681 679 752 559 511 503 509 547 804 838\n",
      " 479 531 708 722 588 545 773 638 556 450 764 680 654 538 772 642 819 446\n",
      " 572 575 700 814 795 847 702 563 651 610 429 591 734 737 669 759 678 628\n",
      " 444 848 673 485 632 715 452 666 477 829 776 827 625 589 790 573 529 703\n",
      " 617 698 689 649 745 751 600 796 514 541 789 765 728 496 407 592 481 528\n",
      " 473 553 664 583 626 783 458 620 540 786 661 576 639 526 706 760 824 570\n",
      " 834 697 432 478 549 755 593 837 809 747 492 754 622 794 648 602 439 830\n",
      " 731 558 582 487 501 515 534 525 568 565 779 800 621 586 793 536 823 535\n",
      " 491 522 564 433 723 805 476 548 438 799 816 461 471 383 530 560 771 489\n",
      " 750 451 736 437 480 835 841 769 843 482 497 486 810 780 445 740 463 822\n",
      " 508 418 845 774 833 842 419 435 408 457 443 744 839 844 518 532 367 836\n",
      " 761 410 618 434 499 801 431 546 500 426 815 427 840 566 428 763 846 459\n",
      " 405 455 821 494 818 413 416 373 490 404 421 488 363 469 411 358 832 449\n",
      " 831 472 415 350 414 475 460 436 456 441 423 849 395 376 448 467 420 447\n",
      " 417 422]\n",
      "Geography\n",
      "['Germany' 'Spain' 'France']\n",
      "Gender\n",
      "['Female' 'Male']\n",
      "Age\n",
      "[34 46 37 47 35 33 29 32 26 43 39 42 51 27 38 61 25 31 63 30 40 22 41 28\n",
      " 45 44 58 52 50 55 36 49 64 54 48 23 62 21 74 24 53 67 81 76 66 70 78 18\n",
      " 72 59 75 57 56 68 60 77 20 71 19 65 69 92 84 83 73 80 79]\n",
      "Tenure\n",
      "[ 7  6  5  8 10  9  1  2  3  0  4]\n",
      "Balance\n",
      "[160426.07 137933.39 118050.79 ...  98088.09  90402.77 112935.87]\n",
      "NumOfProducts\n",
      "[1 2 3 4]\n",
      "HasCrCard\n",
      "[0 1]\n",
      "IsActiveMember\n",
      "[1 0]\n",
      "EstimatedSalary\n",
      "[188533.11  67976.57  52301.15 ... 167155.36  99017.34  81313.51]\n",
      "Exited\n",
      "[0 1]\n"
     ]
    }
   ],
   "source": [
    "for item in train.columns:\n",
    "    print(item)\n",
    "    print (train[item].unique())"
   ]
  },
  {
   "cell_type": "code",
   "execution_count": 180,
   "id": "bfd88bab",
   "metadata": {
    "scrolled": true
   },
   "outputs": [
    {
     "data": {
      "text/plain": [
       "RowNumber          0\n",
       "CustomerId         0\n",
       "Surname            0\n",
       "CreditScore        0\n",
       "Geography          0\n",
       "Gender             0\n",
       "Age                0\n",
       "Tenure             0\n",
       "Balance            0\n",
       "NumOfProducts      0\n",
       "HasCrCard          0\n",
       "IsActiveMember     0\n",
       "EstimatedSalary    0\n",
       "Exited             0\n",
       "dtype: int64"
      ]
     },
     "execution_count": 180,
     "metadata": {},
     "output_type": "execute_result"
    }
   ],
   "source": [
    "train.isnull().sum()"
   ]
  },
  {
   "cell_type": "markdown",
   "id": "d98f462d",
   "metadata": {},
   "source": [
    "### Viene effettuato il replace dei valori della colonna Gender in modo tale da avere dei valori numerici"
   ]
  },
  {
   "cell_type": "code",
   "execution_count": 181,
   "id": "3f2788b0",
   "metadata": {},
   "outputs": [],
   "source": [
    "train = train.replace('Female', 0)\n",
    "train = train.replace('Male',1)\n",
    "test = test.replace('Male', 1)\n",
    "test = test.replace('Female', 0)"
   ]
  },
  {
   "cell_type": "code",
   "execution_count": 182,
   "id": "c23776b2",
   "metadata": {},
   "outputs": [
    {
     "name": "stdout",
     "output_type": "stream",
     "text": [
      "<class 'pandas.core.frame.DataFrame'>\n",
      "RangeIndex: 6400 entries, 0 to 6399\n",
      "Data columns (total 14 columns):\n",
      " #   Column           Non-Null Count  Dtype  \n",
      "---  ------           --------------  -----  \n",
      " 0   RowNumber        6400 non-null   int64  \n",
      " 1   CustomerId       6400 non-null   int64  \n",
      " 2   Surname          6400 non-null   object \n",
      " 3   CreditScore      6400 non-null   int64  \n",
      " 4   Geography        6400 non-null   object \n",
      " 5   Gender           6400 non-null   int64  \n",
      " 6   Age              6400 non-null   int64  \n",
      " 7   Tenure           6400 non-null   int64  \n",
      " 8   Balance          6400 non-null   float64\n",
      " 9   NumOfProducts    6400 non-null   int64  \n",
      " 10  HasCrCard        6400 non-null   int64  \n",
      " 11  IsActiveMember   6400 non-null   int64  \n",
      " 12  EstimatedSalary  6400 non-null   float64\n",
      " 13  Exited           6400 non-null   int64  \n",
      "dtypes: float64(2), int64(10), object(2)\n",
      "memory usage: 700.1+ KB\n"
     ]
    }
   ],
   "source": [
    "train.info()"
   ]
  },
  {
   "cell_type": "code",
   "execution_count": 183,
   "id": "af17fa8e",
   "metadata": {},
   "outputs": [
    {
     "data": {
      "text/html": [
       "<div>\n",
       "<style scoped>\n",
       "    .dataframe tbody tr th:only-of-type {\n",
       "        vertical-align: middle;\n",
       "    }\n",
       "\n",
       "    .dataframe tbody tr th {\n",
       "        vertical-align: top;\n",
       "    }\n",
       "\n",
       "    .dataframe thead th {\n",
       "        text-align: right;\n",
       "    }\n",
       "</style>\n",
       "<table border=\"1\" class=\"dataframe\">\n",
       "  <thead>\n",
       "    <tr style=\"text-align: right;\">\n",
       "      <th></th>\n",
       "      <th>RowNumber</th>\n",
       "      <th>CustomerId</th>\n",
       "      <th>Surname</th>\n",
       "      <th>CreditScore</th>\n",
       "      <th>Geography</th>\n",
       "      <th>Gender</th>\n",
       "      <th>Age</th>\n",
       "      <th>Tenure</th>\n",
       "      <th>Balance</th>\n",
       "      <th>NumOfProducts</th>\n",
       "      <th>HasCrCard</th>\n",
       "      <th>IsActiveMember</th>\n",
       "      <th>EstimatedSalary</th>\n",
       "      <th>Exited</th>\n",
       "    </tr>\n",
       "  </thead>\n",
       "  <tbody>\n",
       "    <tr>\n",
       "      <th>0</th>\n",
       "      <td>2604</td>\n",
       "      <td>15583049</td>\n",
       "      <td>Wallace</td>\n",
       "      <td>643</td>\n",
       "      <td>Germany</td>\n",
       "      <td>0</td>\n",
       "      <td>34</td>\n",
       "      <td>7</td>\n",
       "      <td>160426.07</td>\n",
       "      <td>1</td>\n",
       "      <td>0</td>\n",
       "      <td>1</td>\n",
       "      <td>188533.11</td>\n",
       "      <td>0</td>\n",
       "    </tr>\n",
       "    <tr>\n",
       "      <th>1</th>\n",
       "      <td>5125</td>\n",
       "      <td>15612140</td>\n",
       "      <td>Milano</td>\n",
       "      <td>721</td>\n",
       "      <td>Spain</td>\n",
       "      <td>0</td>\n",
       "      <td>46</td>\n",
       "      <td>7</td>\n",
       "      <td>137933.39</td>\n",
       "      <td>1</td>\n",
       "      <td>1</td>\n",
       "      <td>1</td>\n",
       "      <td>67976.57</td>\n",
       "      <td>0</td>\n",
       "    </tr>\n",
       "    <tr>\n",
       "      <th>2</th>\n",
       "      <td>6789</td>\n",
       "      <td>15800268</td>\n",
       "      <td>Costa</td>\n",
       "      <td>825</td>\n",
       "      <td>Germany</td>\n",
       "      <td>1</td>\n",
       "      <td>37</td>\n",
       "      <td>6</td>\n",
       "      <td>118050.79</td>\n",
       "      <td>1</td>\n",
       "      <td>0</td>\n",
       "      <td>1</td>\n",
       "      <td>52301.15</td>\n",
       "      <td>0</td>\n",
       "    </tr>\n",
       "    <tr>\n",
       "      <th>3</th>\n",
       "      <td>9338</td>\n",
       "      <td>15797751</td>\n",
       "      <td>Pai</td>\n",
       "      <td>466</td>\n",
       "      <td>Germany</td>\n",
       "      <td>0</td>\n",
       "      <td>47</td>\n",
       "      <td>5</td>\n",
       "      <td>102085.72</td>\n",
       "      <td>1</td>\n",
       "      <td>1</td>\n",
       "      <td>1</td>\n",
       "      <td>183536.24</td>\n",
       "      <td>1</td>\n",
       "    </tr>\n",
       "    <tr>\n",
       "      <th>4</th>\n",
       "      <td>7480</td>\n",
       "      <td>15671987</td>\n",
       "      <td>Meagher</td>\n",
       "      <td>567</td>\n",
       "      <td>Spain</td>\n",
       "      <td>1</td>\n",
       "      <td>35</td>\n",
       "      <td>8</td>\n",
       "      <td>153137.74</td>\n",
       "      <td>1</td>\n",
       "      <td>1</td>\n",
       "      <td>0</td>\n",
       "      <td>88659.07</td>\n",
       "      <td>0</td>\n",
       "    </tr>\n",
       "  </tbody>\n",
       "</table>\n",
       "</div>"
      ],
      "text/plain": [
       "   RowNumber  CustomerId  Surname  CreditScore Geography  Gender  Age  Tenure  \\\n",
       "0       2604    15583049  Wallace          643   Germany       0   34       7   \n",
       "1       5125    15612140   Milano          721     Spain       0   46       7   \n",
       "2       6789    15800268    Costa          825   Germany       1   37       6   \n",
       "3       9338    15797751      Pai          466   Germany       0   47       5   \n",
       "4       7480    15671987  Meagher          567     Spain       1   35       8   \n",
       "\n",
       "     Balance  NumOfProducts  HasCrCard  IsActiveMember  EstimatedSalary  \\\n",
       "0  160426.07              1          0               1        188533.11   \n",
       "1  137933.39              1          1               1         67976.57   \n",
       "2  118050.79              1          0               1         52301.15   \n",
       "3  102085.72              1          1               1        183536.24   \n",
       "4  153137.74              1          1               0         88659.07   \n",
       "\n",
       "   Exited  \n",
       "0       0  \n",
       "1       0  \n",
       "2       0  \n",
       "3       1  \n",
       "4       0  "
      ]
     },
     "execution_count": 183,
     "metadata": {},
     "output_type": "execute_result"
    }
   ],
   "source": [
    "train.head()"
   ]
  },
  {
   "cell_type": "markdown",
   "id": "de4d3e1f",
   "metadata": {},
   "source": [
    "### Viene utilizzato il label encoder per effettuare l'encoding dei valori della colonna 'Geography' in modo tale anche qui da avere dei valori numerici "
   ]
  },
  {
   "cell_type": "code",
   "execution_count": 184,
   "id": "1a4735e3",
   "metadata": {},
   "outputs": [],
   "source": [
    "from sklearn.preprocessing import LabelEncoder\n",
    "labelEncoder = LabelEncoder()\n",
    "train['Geography'] = labelEncoder.fit_transform(train['Geography'])\n",
    "test['Geography'] = labelEncoder.fit_transform(test['Geography'])"
   ]
  },
  {
   "cell_type": "code",
   "execution_count": 185,
   "id": "5d8c754f",
   "metadata": {},
   "outputs": [
    {
     "data": {
      "text/html": [
       "<div>\n",
       "<style scoped>\n",
       "    .dataframe tbody tr th:only-of-type {\n",
       "        vertical-align: middle;\n",
       "    }\n",
       "\n",
       "    .dataframe tbody tr th {\n",
       "        vertical-align: top;\n",
       "    }\n",
       "\n",
       "    .dataframe thead th {\n",
       "        text-align: right;\n",
       "    }\n",
       "</style>\n",
       "<table border=\"1\" class=\"dataframe\">\n",
       "  <thead>\n",
       "    <tr style=\"text-align: right;\">\n",
       "      <th></th>\n",
       "      <th>RowNumber</th>\n",
       "      <th>CustomerId</th>\n",
       "      <th>Surname</th>\n",
       "      <th>CreditScore</th>\n",
       "      <th>Geography</th>\n",
       "      <th>Gender</th>\n",
       "      <th>Age</th>\n",
       "      <th>Tenure</th>\n",
       "      <th>Balance</th>\n",
       "      <th>NumOfProducts</th>\n",
       "      <th>HasCrCard</th>\n",
       "      <th>IsActiveMember</th>\n",
       "      <th>EstimatedSalary</th>\n",
       "      <th>Exited</th>\n",
       "    </tr>\n",
       "  </thead>\n",
       "  <tbody>\n",
       "    <tr>\n",
       "      <th>0</th>\n",
       "      <td>2604</td>\n",
       "      <td>15583049</td>\n",
       "      <td>Wallace</td>\n",
       "      <td>643</td>\n",
       "      <td>1</td>\n",
       "      <td>0</td>\n",
       "      <td>34</td>\n",
       "      <td>7</td>\n",
       "      <td>160426.07</td>\n",
       "      <td>1</td>\n",
       "      <td>0</td>\n",
       "      <td>1</td>\n",
       "      <td>188533.11</td>\n",
       "      <td>0</td>\n",
       "    </tr>\n",
       "    <tr>\n",
       "      <th>1</th>\n",
       "      <td>5125</td>\n",
       "      <td>15612140</td>\n",
       "      <td>Milano</td>\n",
       "      <td>721</td>\n",
       "      <td>2</td>\n",
       "      <td>0</td>\n",
       "      <td>46</td>\n",
       "      <td>7</td>\n",
       "      <td>137933.39</td>\n",
       "      <td>1</td>\n",
       "      <td>1</td>\n",
       "      <td>1</td>\n",
       "      <td>67976.57</td>\n",
       "      <td>0</td>\n",
       "    </tr>\n",
       "    <tr>\n",
       "      <th>2</th>\n",
       "      <td>6789</td>\n",
       "      <td>15800268</td>\n",
       "      <td>Costa</td>\n",
       "      <td>825</td>\n",
       "      <td>1</td>\n",
       "      <td>1</td>\n",
       "      <td>37</td>\n",
       "      <td>6</td>\n",
       "      <td>118050.79</td>\n",
       "      <td>1</td>\n",
       "      <td>0</td>\n",
       "      <td>1</td>\n",
       "      <td>52301.15</td>\n",
       "      <td>0</td>\n",
       "    </tr>\n",
       "    <tr>\n",
       "      <th>3</th>\n",
       "      <td>9338</td>\n",
       "      <td>15797751</td>\n",
       "      <td>Pai</td>\n",
       "      <td>466</td>\n",
       "      <td>1</td>\n",
       "      <td>0</td>\n",
       "      <td>47</td>\n",
       "      <td>5</td>\n",
       "      <td>102085.72</td>\n",
       "      <td>1</td>\n",
       "      <td>1</td>\n",
       "      <td>1</td>\n",
       "      <td>183536.24</td>\n",
       "      <td>1</td>\n",
       "    </tr>\n",
       "    <tr>\n",
       "      <th>4</th>\n",
       "      <td>7480</td>\n",
       "      <td>15671987</td>\n",
       "      <td>Meagher</td>\n",
       "      <td>567</td>\n",
       "      <td>2</td>\n",
       "      <td>1</td>\n",
       "      <td>35</td>\n",
       "      <td>8</td>\n",
       "      <td>153137.74</td>\n",
       "      <td>1</td>\n",
       "      <td>1</td>\n",
       "      <td>0</td>\n",
       "      <td>88659.07</td>\n",
       "      <td>0</td>\n",
       "    </tr>\n",
       "  </tbody>\n",
       "</table>\n",
       "</div>"
      ],
      "text/plain": [
       "   RowNumber  CustomerId  Surname  CreditScore  Geography  Gender  Age  \\\n",
       "0       2604    15583049  Wallace          643          1       0   34   \n",
       "1       5125    15612140   Milano          721          2       0   46   \n",
       "2       6789    15800268    Costa          825          1       1   37   \n",
       "3       9338    15797751      Pai          466          1       0   47   \n",
       "4       7480    15671987  Meagher          567          2       1   35   \n",
       "\n",
       "   Tenure    Balance  NumOfProducts  HasCrCard  IsActiveMember  \\\n",
       "0       7  160426.07              1          0               1   \n",
       "1       7  137933.39              1          1               1   \n",
       "2       6  118050.79              1          0               1   \n",
       "3       5  102085.72              1          1               1   \n",
       "4       8  153137.74              1          1               0   \n",
       "\n",
       "   EstimatedSalary  Exited  \n",
       "0        188533.11       0  \n",
       "1         67976.57       0  \n",
       "2         52301.15       0  \n",
       "3        183536.24       1  \n",
       "4         88659.07       0  "
      ]
     },
     "execution_count": 185,
     "metadata": {},
     "output_type": "execute_result"
    }
   ],
   "source": [
    "train.head()"
   ]
  },
  {
   "cell_type": "markdown",
   "id": "e34be830",
   "metadata": {},
   "source": [
    "### Si decide di eliminare la colonna 'Surname' non considerata utile ai fini della classificazione"
   ]
  },
  {
   "cell_type": "code",
   "execution_count": 186,
   "id": "63ddbdf9",
   "metadata": {},
   "outputs": [],
   "source": [
    "train = train.drop([\"Surname\"], axis = 1)\n",
    "test = test.drop([\"Surname\"], axis = 1)"
   ]
  },
  {
   "cell_type": "code",
   "execution_count": 187,
   "id": "0a13fd4b",
   "metadata": {},
   "outputs": [
    {
     "data": {
      "text/html": [
       "<div>\n",
       "<style scoped>\n",
       "    .dataframe tbody tr th:only-of-type {\n",
       "        vertical-align: middle;\n",
       "    }\n",
       "\n",
       "    .dataframe tbody tr th {\n",
       "        vertical-align: top;\n",
       "    }\n",
       "\n",
       "    .dataframe thead th {\n",
       "        text-align: right;\n",
       "    }\n",
       "</style>\n",
       "<table border=\"1\" class=\"dataframe\">\n",
       "  <thead>\n",
       "    <tr style=\"text-align: right;\">\n",
       "      <th></th>\n",
       "      <th>RowNumber</th>\n",
       "      <th>CustomerId</th>\n",
       "      <th>CreditScore</th>\n",
       "      <th>Geography</th>\n",
       "      <th>Gender</th>\n",
       "      <th>Age</th>\n",
       "      <th>Tenure</th>\n",
       "      <th>Balance</th>\n",
       "      <th>NumOfProducts</th>\n",
       "      <th>HasCrCard</th>\n",
       "      <th>IsActiveMember</th>\n",
       "      <th>EstimatedSalary</th>\n",
       "      <th>Exited</th>\n",
       "    </tr>\n",
       "  </thead>\n",
       "  <tbody>\n",
       "    <tr>\n",
       "      <th>0</th>\n",
       "      <td>2604</td>\n",
       "      <td>15583049</td>\n",
       "      <td>643</td>\n",
       "      <td>1</td>\n",
       "      <td>0</td>\n",
       "      <td>34</td>\n",
       "      <td>7</td>\n",
       "      <td>160426.07</td>\n",
       "      <td>1</td>\n",
       "      <td>0</td>\n",
       "      <td>1</td>\n",
       "      <td>188533.11</td>\n",
       "      <td>0</td>\n",
       "    </tr>\n",
       "    <tr>\n",
       "      <th>1</th>\n",
       "      <td>5125</td>\n",
       "      <td>15612140</td>\n",
       "      <td>721</td>\n",
       "      <td>2</td>\n",
       "      <td>0</td>\n",
       "      <td>46</td>\n",
       "      <td>7</td>\n",
       "      <td>137933.39</td>\n",
       "      <td>1</td>\n",
       "      <td>1</td>\n",
       "      <td>1</td>\n",
       "      <td>67976.57</td>\n",
       "      <td>0</td>\n",
       "    </tr>\n",
       "    <tr>\n",
       "      <th>2</th>\n",
       "      <td>6789</td>\n",
       "      <td>15800268</td>\n",
       "      <td>825</td>\n",
       "      <td>1</td>\n",
       "      <td>1</td>\n",
       "      <td>37</td>\n",
       "      <td>6</td>\n",
       "      <td>118050.79</td>\n",
       "      <td>1</td>\n",
       "      <td>0</td>\n",
       "      <td>1</td>\n",
       "      <td>52301.15</td>\n",
       "      <td>0</td>\n",
       "    </tr>\n",
       "    <tr>\n",
       "      <th>3</th>\n",
       "      <td>9338</td>\n",
       "      <td>15797751</td>\n",
       "      <td>466</td>\n",
       "      <td>1</td>\n",
       "      <td>0</td>\n",
       "      <td>47</td>\n",
       "      <td>5</td>\n",
       "      <td>102085.72</td>\n",
       "      <td>1</td>\n",
       "      <td>1</td>\n",
       "      <td>1</td>\n",
       "      <td>183536.24</td>\n",
       "      <td>1</td>\n",
       "    </tr>\n",
       "    <tr>\n",
       "      <th>4</th>\n",
       "      <td>7480</td>\n",
       "      <td>15671987</td>\n",
       "      <td>567</td>\n",
       "      <td>2</td>\n",
       "      <td>1</td>\n",
       "      <td>35</td>\n",
       "      <td>8</td>\n",
       "      <td>153137.74</td>\n",
       "      <td>1</td>\n",
       "      <td>1</td>\n",
       "      <td>0</td>\n",
       "      <td>88659.07</td>\n",
       "      <td>0</td>\n",
       "    </tr>\n",
       "  </tbody>\n",
       "</table>\n",
       "</div>"
      ],
      "text/plain": [
       "   RowNumber  CustomerId  CreditScore  Geography  Gender  Age  Tenure  \\\n",
       "0       2604    15583049          643          1       0   34       7   \n",
       "1       5125    15612140          721          2       0   46       7   \n",
       "2       6789    15800268          825          1       1   37       6   \n",
       "3       9338    15797751          466          1       0   47       5   \n",
       "4       7480    15671987          567          2       1   35       8   \n",
       "\n",
       "     Balance  NumOfProducts  HasCrCard  IsActiveMember  EstimatedSalary  \\\n",
       "0  160426.07              1          0               1        188533.11   \n",
       "1  137933.39              1          1               1         67976.57   \n",
       "2  118050.79              1          0               1         52301.15   \n",
       "3  102085.72              1          1               1        183536.24   \n",
       "4  153137.74              1          1               0         88659.07   \n",
       "\n",
       "   Exited  \n",
       "0       0  \n",
       "1       0  \n",
       "2       0  \n",
       "3       1  \n",
       "4       0  "
      ]
     },
     "execution_count": 187,
     "metadata": {},
     "output_type": "execute_result"
    }
   ],
   "source": [
    "train.head()"
   ]
  },
  {
   "cell_type": "markdown",
   "id": "febd83d4",
   "metadata": {},
   "source": [
    "### Si utilizzano le heat map per verificare le correlazioni tra le varie features e la colonna 'Exited'. Una correlazione molto bassa ci suggerisce di eliminare la colonna. Utilizziamo le heat map anche per verificare eventuali correlazioni tra feature"
   ]
  },
  {
   "cell_type": "code",
   "execution_count": 188,
   "id": "1a367072",
   "metadata": {},
   "outputs": [],
   "source": [
    "import seaborn as sns\n",
    "import matplotlib.pyplot as plt\n",
    "%matplotlib inline\n",
    "def heat_map():\n",
    "    correlation = train.corr()\n",
    "    plt.figure(figsize=(20,20))\n",
    "    sns.heatmap(correlation, square=True,annot=True,cmap='cubehelix')\n",
    "    plt.title('Correlation between different features')"
   ]
  },
  {
   "cell_type": "code",
   "execution_count": 189,
   "id": "d90a328b",
   "metadata": {},
   "outputs": [
    {
     "data": {
      "image/png": "[encoded data removed]",
      "text/plain": [
       "<Figure size 1440x1440 with 2 Axes>"
      ]
     },
     "metadata": {
      "needs_background": "light"
     },
     "output_type": "display_data"
    }
   ],
   "source": [
    "heat_map()"
   ]
  },
  {
   "cell_type": "markdown",
   "id": "68ea878b",
   "metadata": {},
   "source": [
    "### Guardando la heat map si nota come la colonna 'RowNumber' e 'CustomerId' possono essere droppate"
   ]
  },
  {
   "cell_type": "code",
   "execution_count": 190,
   "id": "bab9858c",
   "metadata": {},
   "outputs": [],
   "source": [
    "train = train.drop([\"RowNumber\", \"CustomerId\"], axis = 1)\n",
    "test = test.drop([\"RowNumber\", \"CustomerId\"], axis = 1)"
   ]
  },
  {
   "cell_type": "markdown",
   "id": "331e5f46",
   "metadata": {},
   "source": [
    "### Venogno visualizzati dei countplot per vedere le relazioni tra alcune feature e la colonna 'Exited'. Le feature non ritenute significative allora potranno non essere considerate (droppando la colonna)."
   ]
  },
  {
   "cell_type": "code",
   "execution_count": 191,
   "id": "adcd2d0d",
   "metadata": {},
   "outputs": [
    {
     "data": {
      "text/plain": [
       "<AxesSubplot:xlabel='Geography', ylabel='count'>"
      ]
     },
     "execution_count": 191,
     "metadata": {},
     "output_type": "execute_result"
    },
    {
     "data": {
      "image/png": "[encoded data removed]",
      "text/plain": [
       "<Figure size 720x576 with 1 Axes>"
      ]
     },
     "metadata": {
      "needs_background": "light"
     },
     "output_type": "display_data"
    }
   ],
   "source": [
    "fig, axarr = plt.subplots(1, 1, figsize=(10, 8))\n",
    "sns.countplot(x='Geography', hue = 'Exited',data = train)"
   ]
  },
  {
   "cell_type": "code",
   "execution_count": 192,
   "id": "54d4db1b",
   "metadata": {},
   "outputs": [
    {
     "data": {
      "text/plain": [
       "<AxesSubplot:xlabel='Gender', ylabel='count'>"
      ]
     },
     "execution_count": 192,
     "metadata": {},
     "output_type": "execute_result"
    },
    {
     "data": {
      "image/png": "[encoded data removed]",
      "text/plain": [
       "<Figure size 720x576 with 1 Axes>"
      ]
     },
     "metadata": {
      "needs_background": "light"
     },
     "output_type": "display_data"
    }
   ],
   "source": [
    "fig, axarr = plt.subplots(1, 1, figsize=(10, 8))\n",
    "sns.countplot(x='Gender', hue = 'Exited',data = train)"
   ]
  },
  {
   "cell_type": "code",
   "execution_count": 193,
   "id": "346e0a8d",
   "metadata": {},
   "outputs": [
    {
     "data": {
      "text/plain": [
       "<AxesSubplot:xlabel='Tenure', ylabel='count'>"
      ]
     },
     "execution_count": 193,
     "metadata": {},
     "output_type": "execute_result"
    },
    {
     "data": {
      "image/png": "[encoded data removed]",
      "text/plain": [
       "<Figure size 720x576 with 1 Axes>"
      ]
     },
     "metadata": {
      "needs_background": "light"
     },
     "output_type": "display_data"
    }
   ],
   "source": [
    "fig, axarr = plt.subplots(1, 1, figsize=(10, 8))\n",
    "sns.countplot(x='Tenure', hue = 'Exited',data = train)"
   ]
  },
  {
   "cell_type": "code",
   "execution_count": 194,
   "id": "ca445fae",
   "metadata": {},
   "outputs": [],
   "source": [
    "train = train.drop([\"Tenure\"], axis = 1)\n",
    "test = test.drop([\"Tenure\"], axis = 1)"
   ]
  },
  {
   "cell_type": "code",
   "execution_count": 195,
   "id": "2d276d33",
   "metadata": {},
   "outputs": [
    {
     "data": {
      "text/plain": [
       "<AxesSubplot:xlabel='HasCrCard', ylabel='count'>"
      ]
     },
     "execution_count": 195,
     "metadata": {},
     "output_type": "execute_result"
    },
    {
     "data": {
      "image/png": "[encoded data removed]",
      "text/plain": [
       "<Figure size 720x576 with 1 Axes>"
      ]
     },
     "metadata": {
      "needs_background": "light"
     },
     "output_type": "display_data"
    }
   ],
   "source": [
    "fig, axarr = plt.subplots(1, 1, figsize=(10, 8))\n",
    "sns.countplot(x='HasCrCard', hue = 'Exited',data = train)"
   ]
  },
  {
   "cell_type": "code",
   "execution_count": 196,
   "id": "04106e19",
   "metadata": {},
   "outputs": [],
   "source": [
    "train = train.drop([\"HasCrCard\"], axis = 1)\n",
    "test = test.drop([\"HasCrCard\"], axis = 1)"
   ]
  },
  {
   "cell_type": "code",
   "execution_count": 197,
   "id": "f75fa725",
   "metadata": {},
   "outputs": [
    {
     "data": {
      "text/html": [
       "<div>\n",
       "<style scoped>\n",
       "    .dataframe tbody tr th:only-of-type {\n",
       "        vertical-align: middle;\n",
       "    }\n",
       "\n",
       "    .dataframe tbody tr th {\n",
       "        vertical-align: top;\n",
       "    }\n",
       "\n",
       "    .dataframe thead th {\n",
       "        text-align: right;\n",
       "    }\n",
       "</style>\n",
       "<table border=\"1\" class=\"dataframe\">\n",
       "  <thead>\n",
       "    <tr style=\"text-align: right;\">\n",
       "      <th></th>\n",
       "      <th>CreditScore</th>\n",
       "      <th>Geography</th>\n",
       "      <th>Gender</th>\n",
       "      <th>Age</th>\n",
       "      <th>Balance</th>\n",
       "      <th>NumOfProducts</th>\n",
       "      <th>IsActiveMember</th>\n",
       "      <th>EstimatedSalary</th>\n",
       "      <th>Exited</th>\n",
       "    </tr>\n",
       "  </thead>\n",
       "  <tbody>\n",
       "    <tr>\n",
       "      <th>0</th>\n",
       "      <td>643</td>\n",
       "      <td>1</td>\n",
       "      <td>0</td>\n",
       "      <td>34</td>\n",
       "      <td>160426.07</td>\n",
       "      <td>1</td>\n",
       "      <td>1</td>\n",
       "      <td>188533.11</td>\n",
       "      <td>0</td>\n",
       "    </tr>\n",
       "    <tr>\n",
       "      <th>1</th>\n",
       "      <td>721</td>\n",
       "      <td>2</td>\n",
       "      <td>0</td>\n",
       "      <td>46</td>\n",
       "      <td>137933.39</td>\n",
       "      <td>1</td>\n",
       "      <td>1</td>\n",
       "      <td>67976.57</td>\n",
       "      <td>0</td>\n",
       "    </tr>\n",
       "    <tr>\n",
       "      <th>2</th>\n",
       "      <td>825</td>\n",
       "      <td>1</td>\n",
       "      <td>1</td>\n",
       "      <td>37</td>\n",
       "      <td>118050.79</td>\n",
       "      <td>1</td>\n",
       "      <td>1</td>\n",
       "      <td>52301.15</td>\n",
       "      <td>0</td>\n",
       "    </tr>\n",
       "    <tr>\n",
       "      <th>3</th>\n",
       "      <td>466</td>\n",
       "      <td>1</td>\n",
       "      <td>0</td>\n",
       "      <td>47</td>\n",
       "      <td>102085.72</td>\n",
       "      <td>1</td>\n",
       "      <td>1</td>\n",
       "      <td>183536.24</td>\n",
       "      <td>1</td>\n",
       "    </tr>\n",
       "    <tr>\n",
       "      <th>4</th>\n",
       "      <td>567</td>\n",
       "      <td>2</td>\n",
       "      <td>1</td>\n",
       "      <td>35</td>\n",
       "      <td>153137.74</td>\n",
       "      <td>1</td>\n",
       "      <td>0</td>\n",
       "      <td>88659.07</td>\n",
       "      <td>0</td>\n",
       "    </tr>\n",
       "  </tbody>\n",
       "</table>\n",
       "</div>"
      ],
      "text/plain": [
       "   CreditScore  Geography  Gender  Age    Balance  NumOfProducts  \\\n",
       "0          643          1       0   34  160426.07              1   \n",
       "1          721          2       0   46  137933.39              1   \n",
       "2          825          1       1   37  118050.79              1   \n",
       "3          466          1       0   47  102085.72              1   \n",
       "4          567          2       1   35  153137.74              1   \n",
       "\n",
       "   IsActiveMember  EstimatedSalary  Exited  \n",
       "0               1        188533.11       0  \n",
       "1               1         67976.57       0  \n",
       "2               1         52301.15       0  \n",
       "3               1        183536.24       1  \n",
       "4               0         88659.07       0  "
      ]
     },
     "execution_count": 197,
     "metadata": {},
     "output_type": "execute_result"
    }
   ],
   "source": [
    "train.head()"
   ]
  },
  {
   "cell_type": "code",
   "execution_count": 198,
   "id": "b391cb59",
   "metadata": {
    "scrolled": false
   },
   "outputs": [
    {
     "data": {
      "text/plain": [
       "<AxesSubplot:xlabel='NumOfProducts', ylabel='count'>"
      ]
     },
     "execution_count": 198,
     "metadata": {},
     "output_type": "execute_result"
    },
    {
     "data": {
      "image/png": "[encoded data removed]",
      "text/plain": [
       "<Figure size 720x576 with 1 Axes>"
      ]
     },
     "metadata": {
      "needs_background": "light"
     },
     "output_type": "display_data"
    }
   ],
   "source": [
    "fig, axarr = plt.subplots(1, 1, figsize=(10, 8))\n",
    "sns.countplot(x='NumOfProducts', hue = 'Exited',data = train)"
   ]
  },
  {
   "cell_type": "markdown",
   "id": "3f1ce5fd",
   "metadata": {},
   "source": [
    "### Costruzione e Fit dei modelli: Decision Tree, Logistic e Random Forest"
   ]
  },
  {
   "cell_type": "code",
   "execution_count": 199,
   "id": "3f903599",
   "metadata": {},
   "outputs": [],
   "source": [
    "y_train = train[\"Exited\"].copy()\n",
    "X_train = train.drop(\"Exited\",axis=1).copy()\n",
    "\n",
    "y_test = test[\"Exited\"].copy()\n",
    "X_test = test.drop(\"Exited\",axis=1).copy()"
   ]
  },
  {
   "cell_type": "code",
   "execution_count": 200,
   "id": "037186af",
   "metadata": {},
   "outputs": [
    {
     "name": "stdout",
     "output_type": "stream",
     "text": [
      "Decision Tree Classifier\n",
      "accuracy score: 85.0\n",
      "model score: 0.85\n"
     ]
    }
   ],
   "source": [
    "from sklearn.metrics import accuracy_score\n",
    "from sklearn.tree import DecisionTreeClassifier\n",
    "model = DecisionTreeClassifier(max_depth=4)\n",
    "trainedtree = model.fit(X_train, y_train)\n",
    "\n",
    "pred = model.predict(X_test)\n",
    "\n",
    "print(\"Decision Tree Classifier\")\n",
    "print(\"accuracy score:\", accuracy_score(y_test, pred)*100)\n",
    "print(\"model score:\", model.score(X_test, y_test))"
   ]
  },
  {
   "cell_type": "code",
   "execution_count": 201,
   "id": "bc65be23",
   "metadata": {},
   "outputs": [
    {
     "name": "stdout",
     "output_type": "stream",
     "text": [
      "Logistic Regression\n",
      "accuracy score: 79.5\n",
      "model score: 0.795\n"
     ]
    }
   ],
   "source": [
    "from sklearn.linear_model  import LogisticRegression\n",
    "logistic_model = LogisticRegression()\n",
    "logistic_model.fit(X_train,y_train)\n",
    "pred = logistic_model.predict(X_test)\n",
    "print(\"Logistic Regression\")\n",
    "print(\"accuracy score:\", accuracy_score(y_test, pred)*100)\n",
    "print(\"model score:\", logistic_model.score(X_test, y_test))"
   ]
  },
  {
   "cell_type": "code",
   "execution_count": 202,
   "id": "84dc6162",
   "metadata": {},
   "outputs": [
    {
     "name": "stdout",
     "output_type": "stream",
     "text": [
      "Random forest\n",
      "accuracy score: 0.86375\n",
      "model score: 0.86375\n"
     ]
    }
   ],
   "source": [
    "from sklearn.ensemble import RandomForestClassifier\n",
    "randomForest_model = RandomForestClassifier(n_estimators=100)\n",
    "randomForest_model.fit(X_train,y_train)\n",
    "y_pred = randomForest_model.predict(X_test)\n",
    "print(\"Random forest\")\n",
    "print(\"accuracy score:\", accuracy_score(y_test, y_pred))\n",
    "print(\"model score:\", randomForest_model.score(X_test, y_test))"
   ]
  }
 ],
 "metadata": {
  "kernelspec": {
   "display_name": "Python 3",
   "language": "python",
   "name": "python3"
  },
  "language_info": {
   "codemirror_mode": {
    "name": "ipython",
    "version": 3
   },
   "file_extension": ".py",
   "mimetype": "text/x-python",
   "name": "python",
   "nbconvert_exporter": "python",
   "pygments_lexer": "ipython3",
   "version": "3.8.8"
  }
 },
 "nbformat": 4,
 "nbformat_minor": 5
}
